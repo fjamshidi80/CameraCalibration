{
  "cells": [
    {
      "cell_type": "markdown",
      "metadata": {
        "id": "view-in-github",
        "colab_type": "text"
      },
      "source": [
        "<a href=\"https://colab.research.google.com/github/fjamshidi80/CameraCalibration/blob/main/ClassificationGoodBadCropFlow_10_13.ipynb\" target=\"_parent\"><img src=\"https://colab.research.google.com/assets/colab-badge.svg\" alt=\"Open In Colab\"/></a>"
      ]
    },
    {
      "cell_type": "code",
      "execution_count": null,
      "metadata": {
        "id": "yb24BRTZwCnN"
      },
      "outputs": [],
      "source": [
        "import os\n",
        "import random\n",
        "import zipfile\n",
        "import numpy as np\n",
        "import seaborn as sns\n",
        "import matplotlib.pyplot as plt\n",
        "import tensorflow as tf\n",
        "import cv2\n",
        "import time\n",
        "\n",
        "\n",
        "from sklearn.model_selection import train_test_split\n",
        "from PIL import Image, UnidentifiedImageError\n",
        "from tensorflow import keras\n",
        "from tensorflow.keras.preprocessing.image import ImageDataGenerator\n",
        "from tensorflow.keras import datasets, layers, models\n",
        "from sklearn.model_selection import train_test_split, StratifiedKFold\n",
        "from sklearn.metrics import (\n",
        "    accuracy_score,\n",
        "    precision_score,\n",
        "    recall_score,\n",
        "    f1_score,\n",
        "    confusion_matrix,\n",
        "    roc_auc_score,\n",
        ")\n",
        "\n",
        "from tensorflow.keras.models import Sequential,save_model, load_model\n",
        "from tensorflow.keras.layers import Dense\n",
        "\n",
        "# Install the PyDrive library if not already installed\n",
        "# !pip install PyDrive\n",
        "\n",
        "# Import necessary modules for Google Drive integration\n",
        "from pydrive.auth import GoogleAuth\n",
        "from pydrive.drive import GoogleDrive\n",
        "\n",
        "from google.colab import files, drive\n"
      ]
    },
    {
      "cell_type": "code",
      "execution_count": null,
      "metadata": {
        "id": "BDYwj3bDp-Mo"
      },
      "outputs": [],
      "source": [
        "width,height,length=338,150,150\n",
        "target_size = (width, length)"
      ]
    },
    {
      "cell_type": "code",
      "execution_count": null,
      "metadata": {
        "colab": {
          "base_uri": "https://localhost:8080/"
        },
        "id": "h4UGIB1HwQa2",
        "outputId": "6e4a815f-d23a-49e4-ba30-3994aa4529c9"
      },
      "outputs": [
        {
          "output_type": "stream",
          "name": "stdout",
          "text": [
            "Mounted at /content/drive\n"
          ]
        }
      ],
      "source": [
        "from google.colab import drive\n",
        "drive.mount('/content/drive')"
      ]
    },
    {
      "cell_type": "code",
      "execution_count": null,
      "metadata": {
        "id": "PPZqfPm4xPYA",
        "colab": {
          "base_uri": "https://localhost:8080/"
        },
        "outputId": "cdb6a060-6cf0-403b-d7ef-2e274a4e8394"
      },
      "outputs": [
        {
          "output_type": "stream",
          "name": "stdout",
          "text": [
            "Bad: 1104 images\n",
            "Good: 1956 images\n"
          ]
        }
      ],
      "source": [
        "# Define the path to the folder containing subfolders\n",
        "extracted_folder = '/content/drive/MyDrive/CropFlowImages2Class'\n",
        "\n",
        "# Initialize a dictionary to store the count of images per folder\n",
        "image_counts = {}\n",
        "\n",
        "# Iterate through subfolders in the extracted_folder\n",
        "for subfolder in os.listdir(extracted_folder):\n",
        "    subfolder_path = os.path.join(extracted_folder, subfolder)\n",
        "\n",
        "    # Check if the subfolder is a directory\n",
        "    if os.path.isdir(subfolder_path):\n",
        "        # Count the number of image files (files with common image extensions)\n",
        "        image_count = len([file for file in os.listdir(subfolder_path) if file.lower().endswith(('.jpg', '.jpeg', '.png', '.gif', '.bmp'))])\n",
        "        image_counts[subfolder] = image_count\n",
        "\n",
        "# Print the image counts per folder\n",
        "for folder, count in image_counts.items():\n",
        "    print(f\"{folder}: {count} images\")\n",
        "class_names = sorted([subfolder for subfolder in os.listdir(extracted_folder) if os.path.isdir(os.path.join(extracted_folder, subfolder))])"
      ]
    },
    {
      "cell_type": "markdown",
      "source": [
        "**Not This**"
      ],
      "metadata": {
        "id": "VJepWSWKEQ6z"
      }
    },
    {
      "cell_type": "code",
      "execution_count": null,
      "metadata": {
        "id": "n9muxvyb7p4D"
      },
      "outputs": [],
      "source": [
        "\n",
        "\n",
        "def read_images(extracted_folder, target_size):#, test_size=0.2, validation_size=0.2):\n",
        "    root_folder = sorted([subfolder for subfolder in os.listdir(extracted_folder) if os.path.isdir(os.path.join(extracted_folder, subfolder))])\n",
        "\n",
        "\n",
        "    images = []\n",
        "    labels = []\n",
        "    Filenames = []\n",
        "\n",
        "    for class_idx, subfolder in enumerate(root_folder):\n",
        "        class_folder = os.path.join(extracted_folder, subfolder)\n",
        "\n",
        "        for filename in os.listdir(class_folder):\n",
        "            img_path = os.path.join(class_folder, filename)\n",
        "            try:\n",
        "                img = Image.open(img_path)\n",
        "                if os.path.isfile(img_path):\n",
        "                    img = img.convert('L')\n",
        "                    img = img.resize(target_size)\n",
        "                    img_array = np.array(img)\n",
        "                    images.append(img_array)\n",
        "                    labels.append(class_idx)\n",
        "                    Filenames.append(filename)\n",
        "            except (UnidentifiedImageError, OSError):\n",
        "                print(f\"Could not open image: {img_path}. Skipping...\")\n",
        "                continue\n",
        "    images = np.array(images) / 255.0\n",
        "    labels=np.array(labels)\n",
        "    return images,labels, Filenames\n"
      ]
    },
    {
      "cell_type": "markdown",
      "source": [
        "**Standardization, which scales pixel values to have a mean of 0 and a standard deviation of 1. This is useful when dealing with images with varying brightness and contrast.**"
      ],
      "metadata": {
        "id": "I3NaW6XPEq9o"
      }
    },
    {
      "cell_type": "code",
      "source": [
        "def read_images(extracted_folder, target_size):#, test_size=0.2, validation_size=0.2):\n",
        "    root_folder = sorted([subfolder for subfolder in os.listdir(extracted_folder) if os.path.isdir(os.path.join(extracted_folder, subfolder))])\n",
        "\n",
        "\n",
        "    images = []\n",
        "    labels = []\n",
        "    Filenames = []\n",
        "\n",
        "    for class_idx, subfolder in enumerate(root_folder):\n",
        "        class_folder = os.path.join(extracted_folder, subfolder)\n",
        "\n",
        "        for filename in os.listdir(class_folder):\n",
        "            img_path = os.path.join(class_folder, filename)\n",
        "            try:\n",
        "                img = Image.open(img_path)\n",
        "                if os.path.isfile(img_path):\n",
        "                    img = img.convert('L')\n",
        "                    img = img.resize(target_size)\n",
        "                    img_array = np.array(img)\n",
        "                    mean = np.mean(img_array)\n",
        "                    std = np.std(img_array)\n",
        "                    normalized_image = (img_array - mean) / std\n",
        "                    images.append(normalized_image)\n",
        "                    labels.append(class_idx)\n",
        "                    Filenames.append(filename)\n",
        "            except (UnidentifiedImageError, OSError):\n",
        "                print(f\"Could not open image: {img_path}. Skipping...\")\n",
        "                continue\n",
        "    images = np.array(images)# / 255.0\n",
        "    labels=np.array(labels)\n",
        "    return images,labels, Filenames\n"
      ],
      "metadata": {
        "id": "nJwmyH7LEWWp"
      },
      "execution_count": null,
      "outputs": []
    },
    {
      "cell_type": "code",
      "execution_count": null,
      "metadata": {
        "id": "rh0dk4t2q8NX"
      },
      "outputs": [],
      "source": [
        "target_size = (width, length)\n",
        "images,labels, Filenames=read_images(extracted_folder, target_size)"
      ]
    },
    {
      "cell_type": "code",
      "execution_count": null,
      "metadata": {
        "id": "LOet7cSAsNu-"
      },
      "outputs": [],
      "source": [
        "# Assuming you have a NumPy array 'labels' containing class labels (shape: (718,))\n",
        "# Find unique class labels in 'labels' array\n",
        "unique_classes = np.unique(labels)\n",
        "\n",
        "# Count the number of unique classes\n",
        "num_classes = len(unique_classes)"
      ]
    },
    {
      "cell_type": "code",
      "execution_count": null,
      "metadata": {
        "id": "SoOrX8JzsDXC",
        "colab": {
          "base_uri": "https://localhost:8080/"
        },
        "outputId": "87747778-e4f0-4d2e-c17a-a928836fed0e"
      },
      "outputs": [
        {
          "output_type": "stream",
          "name": "stdout",
          "text": [
            "Model: \"sequential\"\n",
            "_________________________________________________________________\n",
            " Layer (type)                Output Shape              Param #   \n",
            "=================================================================\n",
            " conv2d (Conv2D)             (None, 336, 148, 32)      320       \n",
            "                                                                 \n",
            " max_pooling2d (MaxPooling2  (None, 168, 74, 32)       0         \n",
            " D)                                                              \n",
            "                                                                 \n",
            " conv2d_1 (Conv2D)           (None, 166, 72, 32)       9248      \n",
            "                                                                 \n",
            " max_pooling2d_1 (MaxPoolin  (None, 83, 36, 32)        0         \n",
            " g2D)                                                            \n",
            "                                                                 \n",
            " flatten (Flatten)           (None, 95616)             0         \n",
            "                                                                 \n",
            " dropout (Dropout)           (None, 95616)             0         \n",
            "                                                                 \n",
            " dense (Dense)               (None, 64)                6119488   \n",
            "                                                                 \n",
            " dense_1 (Dense)             (None, 2)                 130       \n",
            "                                                                 \n",
            "=================================================================\n",
            "Total params: 6129186 (23.38 MB)\n",
            "Trainable params: 6129186 (23.38 MB)\n",
            "Non-trainable params: 0 (0.00 Byte)\n",
            "_________________________________________________________________\n",
            "None\n"
          ]
        }
      ],
      "source": [
        "# model...\n",
        "model = keras.models.Sequential()\n",
        "model.add(layers.Conv2D(32, (3,3), strides=(1,1), padding=\"valid\", activation='relu', input_shape=(width,length,1)))\n",
        "model.add(layers.MaxPool2D((2,2)))\n",
        "model.add(layers.Conv2D(32, 3, activation='relu'))\n",
        "model.add(layers.MaxPool2D((2,2)))\n",
        "model.add(layers.Flatten())\n",
        "model.add(layers.Dropout(0.3))\n",
        "#model.add(layers.Dense(64, activation='relu'))\n",
        "##'sigmoid' 'tanh' 'linear' 'elu'\n",
        "##'tf.keras.layers.LeakyReLU(alpha=0.2)\n",
        "## tf.keras.layers.PReLU()\n",
        "## tf.keras.layers.Swish()\n",
        "model.add(layers.Dense(64, activation='sigmoid'))\n",
        "#model.add(layers.Dense(64, activation='tanh'))\n",
        "model.add(layers.Dense(num_classes, activation='softmax'))\n",
        "print(model.summary())\n",
        "model.compile(optimizer='adam', loss='sparse_categorical_crossentropy', metrics=['accuracy'])"
      ]
    },
    {
      "cell_type": "code",
      "source": [
        "# Loads the weights\n",
        "checkpoint_path = \"/content/drive/MyDrive/training_2/cp.ckpt\"\n",
        "model.load_weights(checkpoint_path)"
      ],
      "metadata": {
        "colab": {
          "base_uri": "https://localhost:8080/"
        },
        "outputId": "9c7298cd-cd5d-44e3-96b4-a2e4ac552f07",
        "id": "0pORlGwScBPS"
      },
      "execution_count": null,
      "outputs": [
        {
          "output_type": "execute_result",
          "data": {
            "text/plain": [
              "<tensorflow.python.checkpoint.checkpoint.CheckpointLoadStatus at 0x78bf8c4ad960>"
            ]
          },
          "metadata": {},
          "execution_count": 11
        }
      ]
    },
    {
      "cell_type": "markdown",
      "metadata": {
        "id": "F47EhanUFhWN"
      },
      "source": [
        "**K fold Without saving results**"
      ]
    },
    {
      "cell_type": "code",
      "execution_count": null,
      "metadata": {
        "id": "ViVOp2md9PcM"
      },
      "outputs": [],
      "source": [
        "# Shuffle the data (assuming 'images' and 'labels' are NumPy arrays)\n",
        "shuffled_indices = np.random.permutation(len(images))\n",
        "shuffled_images = images[shuffled_indices]\n",
        "shuffled_labels = labels[shuffled_indices]\n",
        "\n",
        "# Define the number of folds (k)\n",
        "k = 5\n",
        "\n",
        "# Initialize lists to store evaluation metrics for each fold\n",
        "accuracy_scores = []\n",
        "precision_scores = []\n",
        "recall_scores = []\n",
        "f1_scores = []\n",
        "\n",
        "# Initialize StratifiedKFold for splitting data while preserving class distribution\n",
        "kf = StratifiedKFold(n_splits=k, shuffle=True, random_state=42)\n",
        "\n",
        "# Split the shuffled data into training, validation, and test sets\n",
        "train_ratio = 0.7  # Example ratio: 60% training, 20% validation, 20% test\n",
        "val_ratio = 0.15\n",
        "test_ratio = 0.15\n",
        "num_epochs, batch_size=2,8\n",
        "train_images, test_images, train_labels, test_labels = train_test_split(\n",
        "    shuffled_images, shuffled_labels, test_size=test_ratio, random_state=42)\n",
        "train_images, val_images, train_labels, val_labels = train_test_split(\n",
        "    train_images, train_labels, test_size=val_ratio / (1 - test_ratio), random_state=42)\n",
        "test_images = test_images.reshape(-1, width, length, 1)\n",
        "# Perform k-fold cross-validation on the training and validation sets\n",
        "for train_index, val_index in kf.split(train_images, train_labels):\n",
        "    train_fold_images, val_fold_images = train_images[train_index], train_images[val_index]\n",
        "    train_fold_labels, val_fold_labels = train_labels[train_index], train_labels[val_index]\n",
        "    train_fold_images = train_fold_images.reshape(-1, width, length, 1)\n",
        "    val_fold_images = val_fold_images.reshape(-1, width, length, 1)\n",
        "\n",
        "    # Compile and train your model on the training set (train_fold_images, train_fold_labels)\n",
        "\n",
        "    model.fit(train_fold_images, train_fold_labels, epochs=num_epochs, batch_size=batch_size, verbose=1,validation_data=(val_fold_images, val_fold_labels))\n",
        "    print(\"---------------------\")\n",
        "    # Evaluate your model on the validation set (val_fold_images, val_fold_labels)\n",
        "    # Assuming you have predicted labels for the test data\n",
        "    test_predicted_labels = model.predict(test_images)\n",
        "    test_predicted_labels = np.argmax(test_predicted_labels, axis=1)\n",
        "\n",
        "# Calculate metrics\n",
        "    # Calculate metrics with zero_division parameter set to 'warn'\n",
        "    accuracy = accuracy_score(test_labels, test_predicted_labels)\n",
        "    precision = precision_score(test_labels, test_predicted_labels, average='weighted', zero_division=0)\n",
        "    recall = recall_score(test_labels, test_predicted_labels, average='weighted', zero_division=0)\n",
        "    f1 = f1_score(test_labels, test_predicted_labels, average='weighted', zero_division=0)\n",
        "\n",
        "    # Calculate and collect other metrics like precision, recall, F1-score\n",
        "    accuracy_scores.append(accuracy)\n",
        "    precision_scores.append(precision)\n",
        "    recall_scores.append(recall)\n",
        "    f1_scores.append(f1)\n",
        "# Calculate average metrics over all folds\n",
        "avg_accuracy = np.mean(accuracy_scores)\n",
        "avg_precision = np.mean(precision_scores)\n",
        "avg_recall = np.mean(recall_scores)\n",
        "avg_f1 = np.mean(f1_scores)\n",
        "\n",
        "\n",
        "# Print or store the test set metrics\n",
        "print(f'Test Evaluation: ')\n",
        "# Print or store other test metrics if needed\n",
        "\n",
        "# Print or store the average metrics for training, validation, and test sets\n",
        "print(f'Average Accuracy: {avg_accuracy}')\n",
        "print(f'Average precision: {avg_precision}')\n",
        "print(f'Average recall: {avg_recall}')\n",
        "print(f'Average f1: {avg_f1}')\n",
        "# Print or store other average metrics if needed\n"
      ]
    },
    {
      "cell_type": "markdown",
      "source": [
        "**K fold that is saved**"
      ],
      "metadata": {
        "id": "sTYhmsYRPOAy"
      }
    },
    {
      "cell_type": "code",
      "execution_count": null,
      "metadata": {
        "colab": {
          "base_uri": "https://localhost:8080/",
          "height": 254
        },
        "outputId": "6a2e4907-863e-4699-a032-88ba3385e9af",
        "id": "PcYeF1VSIfsf"
      },
      "outputs": [
        {
          "output_type": "error",
          "ename": "NameError",
          "evalue": "ignored",
          "traceback": [
            "\u001b[0;31m---------------------------------------------------------------------------\u001b[0m",
            "\u001b[0;31mNameError\u001b[0m                                 Traceback (most recent call last)",
            "\u001b[0;32m<ipython-input-12-542b6c44b009>\u001b[0m in \u001b[0;36m<cell line: 31>\u001b[0;34m()\u001b[0m\n\u001b[1;32m     34\u001b[0m     \u001b[0mtrain_fold_images\u001b[0m \u001b[0;34m=\u001b[0m \u001b[0mtrain_fold_images\u001b[0m\u001b[0;34m.\u001b[0m\u001b[0mreshape\u001b[0m\u001b[0;34m(\u001b[0m\u001b[0;34m-\u001b[0m\u001b[0;36m1\u001b[0m\u001b[0;34m,\u001b[0m \u001b[0mwidth\u001b[0m\u001b[0;34m,\u001b[0m \u001b[0mlength\u001b[0m\u001b[0;34m,\u001b[0m \u001b[0;36m1\u001b[0m\u001b[0;34m)\u001b[0m\u001b[0;34m\u001b[0m\u001b[0;34m\u001b[0m\u001b[0m\n\u001b[1;32m     35\u001b[0m     \u001b[0mval_fold_images\u001b[0m \u001b[0;34m=\u001b[0m \u001b[0mval_fold_images\u001b[0m\u001b[0;34m.\u001b[0m\u001b[0mreshape\u001b[0m\u001b[0;34m(\u001b[0m\u001b[0;34m-\u001b[0m\u001b[0;36m1\u001b[0m\u001b[0;34m,\u001b[0m \u001b[0mwidth\u001b[0m\u001b[0;34m,\u001b[0m \u001b[0mlength\u001b[0m\u001b[0;34m,\u001b[0m \u001b[0;36m1\u001b[0m\u001b[0;34m)\u001b[0m\u001b[0;34m\u001b[0m\u001b[0;34m\u001b[0m\u001b[0m\n\u001b[0;32m---> 36\u001b[0;31m     \u001b[0mmodel\u001b[0m\u001b[0;34m.\u001b[0m\u001b[0mfit\u001b[0m\u001b[0;34m(\u001b[0m\u001b[0mtrain_fold_images\u001b[0m\u001b[0;34m,\u001b[0m \u001b[0mtrain_fold_labels\u001b[0m\u001b[0;34m,\u001b[0m \u001b[0mepochs\u001b[0m\u001b[0;34m=\u001b[0m\u001b[0mnum_epochs\u001b[0m\u001b[0;34m,\u001b[0m \u001b[0mbatch_size\u001b[0m\u001b[0;34m=\u001b[0m\u001b[0mbatch_size\u001b[0m\u001b[0;34m,\u001b[0m \u001b[0mverbose\u001b[0m\u001b[0;34m=\u001b[0m\u001b[0;36m1\u001b[0m\u001b[0;34m,\u001b[0m\u001b[0mvalidation_data\u001b[0m\u001b[0;34m=\u001b[0m\u001b[0;34m(\u001b[0m\u001b[0mval_fold_images\u001b[0m\u001b[0;34m,\u001b[0m \u001b[0mval_fold_labels\u001b[0m\u001b[0;34m)\u001b[0m\u001b[0;34m,\u001b[0m\u001b[0mcallbacks\u001b[0m\u001b[0;34m=\u001b[0m\u001b[0;34m[\u001b[0m\u001b[0mcp_callback\u001b[0m\u001b[0;34m]\u001b[0m\u001b[0;34m)\u001b[0m\u001b[0;34m\u001b[0m\u001b[0;34m\u001b[0m\u001b[0m\n\u001b[0m\u001b[1;32m     37\u001b[0m     \u001b[0;31m#model.fit(train_images, train_labels, epochs=num_epochs, batch_size=batch_size, verbose=1, validation_data=(val_images, val_labels),callbacks=[cp_callback])\u001b[0m\u001b[0;34m\u001b[0m\u001b[0;34m\u001b[0m\u001b[0m\n\u001b[1;32m     38\u001b[0m     \u001b[0mprint\u001b[0m\u001b[0;34m(\u001b[0m\u001b[0;34m\"---------------------\"\u001b[0m\u001b[0;34m)\u001b[0m\u001b[0;34m\u001b[0m\u001b[0;34m\u001b[0m\u001b[0m\n",
            "\u001b[0;31mNameError\u001b[0m: name 'cp_callback' is not defined"
          ]
        }
      ],
      "source": [
        "# Shuffle the data (assuming 'images' and 'labels' are NumPy arrays)\n",
        "shuffled_indices = np.random.permutation(len(images))\n",
        "shuffled_images = images[shuffled_indices]\n",
        "shuffled_labels = labels[shuffled_indices]\n",
        "\n",
        "\n",
        "\n",
        "# Define the number of folds (k)\n",
        "k = 5\n",
        "\n",
        "# Initialize lists to store evaluation metrics for each fold\n",
        "accuracy_scores = []\n",
        "precision_scores = []\n",
        "recall_scores = []\n",
        "f1_scores = []\n",
        "\n",
        "# Initialize StratifiedKFold for splitting data while preserving class distribution\n",
        "kf = StratifiedKFold(n_splits=k, shuffle=True, random_state=42)\n",
        "\n",
        "# Split the shuffled data into training, validation, and test sets\n",
        "train_ratio = 0.7  # Example ratio: 60% training, 20% validation, 20% test\n",
        "val_ratio = 0.15\n",
        "test_ratio = 0.15\n",
        "num_epochs, batch_size=2,8\n",
        "train_images, test_images, train_labels, test_labels = train_test_split(\n",
        "    shuffled_images, shuffled_labels, test_size=test_ratio, random_state=42)\n",
        "train_images, val_images, train_labels, val_labels = train_test_split(\n",
        "    train_images, train_labels, test_size=val_ratio / (1 - test_ratio), random_state=42)\n",
        "test_images = test_images.reshape(-1, width, length, 1)\n",
        "# Perform k-fold cross-validation on the training and validation sets\n",
        "for train_index, val_index in kf.split(train_images, train_labels):\n",
        "    train_fold_images, val_fold_images = train_images[train_index], train_images[val_index]\n",
        "    train_fold_labels, val_fold_labels = train_labels[train_index], train_labels[val_index]\n",
        "    train_fold_images = train_fold_images.reshape(-1, width, length, 1)\n",
        "    val_fold_images = val_fold_images.reshape(-1, width, length, 1)\n",
        "    model.fit(train_fold_images, train_fold_labels, epochs=num_epochs, batch_size=batch_size, verbose=1,validation_data=(val_fold_images, val_fold_labels),callbacks=[cp_callback])\n",
        "    #model.fit(train_images, train_labels, epochs=num_epochs, batch_size=batch_size, verbose=1, validation_data=(val_images, val_labels),callbacks=[cp_callback])\n",
        "    print(\"---------------------\")\n",
        "    # Evaluate your model on the validation set (val_fold_images, val_fold_labels)\n",
        "    # Assuming you have predicted labels for the test data\n",
        "    test_predicted_labels = model.predict(test_images)\n",
        "    test_predicted_labels = np.argmax(test_predicted_labels, axis=1)\n",
        "\n",
        "# Calculate metrics\n",
        "    # Calculate metrics with zero_division parameter set to 'warn'\n",
        "    accuracy = accuracy_score(test_labels, test_predicted_labels)\n",
        "    precision = precision_score(test_labels, test_predicted_labels, average='weighted', zero_division=0)\n",
        "    recall = recall_score(test_labels, test_predicted_labels, average='weighted', zero_division=0)\n",
        "    f1 = f1_score(test_labels, test_predicted_labels, average='weighted', zero_division=0)\n",
        "\n",
        "    # Calculate and collect other metrics like precision, recall, F1-score\n",
        "    accuracy_scores.append(accuracy)\n",
        "    precision_scores.append(precision)\n",
        "    recall_scores.append(recall)\n",
        "    f1_scores.append(f1)\n",
        "# Calculate average metrics over all folds\n",
        "avg_accuracy = np.mean(accuracy_scores)\n",
        "avg_precision = np.mean(precision_scores)\n",
        "avg_recall = np.mean(recall_scores)\n",
        "avg_f1 = np.mean(f1_scores)\n",
        "\n",
        "\n",
        "# Print or store the test set metrics\n",
        "print(f'Test Evaluation: ')\n",
        "# Print or store other test metrics if needed\n",
        "\n",
        "# Print or store the average metrics for training, validation, and test sets\n",
        "print(f'Average Accuracy: {avg_accuracy}')\n",
        "print(f'Average precision: {avg_precision}')\n",
        "print(f'Average recall: {avg_recall}')\n",
        "print(f'Average f1: {avg_f1}')\n",
        "# Print or store other average metrics if needed\n"
      ]
    },
    {
      "cell_type": "code",
      "execution_count": null,
      "metadata": {
        "id": "F9bx9CeYFhWO"
      },
      "outputs": [],
      "source": [
        "# Shuffle the data (assuming 'images' and 'labels' are NumPy arrays)\n",
        "shuffled_indices = np.random.permutation(len(images))\n",
        "shuffled_images = images[shuffled_indices]\n",
        "shuffled_labels = labels[shuffled_indices]\n",
        "\n",
        "# Define the split ratios\n",
        "train_ratio = 0.7  # Example ratio: 70% training\n",
        "val_ratio = 0.15   # Example ratio: 15% validation\n",
        "test_ratio = 0.15  # Example ratio: 15% test\n",
        "num_epochs, batch_size=10,8\n",
        "# Split the shuffled data into training, validation, and test sets\n",
        "train_images, test_images, train_labels, test_labels = train_test_split(\n",
        "    shuffled_images, shuffled_labels, test_size=test_ratio, random_state=42)\n",
        "train_images, val_images, train_labels, val_labels = train_test_split(\n",
        "    train_images, train_labels, test_size=val_ratio / (1 - test_ratio), random_state=42)\n",
        "\n",
        "test_images = test_images.reshape(-1, width, length, 1)\n",
        "train_images = train_images.reshape(-1, width, length, 1)\n",
        "val_images = val_images.reshape(-1, width, length, 1)\n",
        "# Compile and train your model on the training set (train_images, train_labels)"
      ]
    },
    {
      "cell_type": "code",
      "source": [
        "checkpoint_path = \"/content/drive/MyDrive/training_2/cp.ckpt\"\n",
        "checkpoint_dir = os.path.dirname(checkpoint_path)\n",
        "num_epochs, batch_size=10,8\n",
        "# Create a callback that saves the model's weights\n",
        "cp_callback = tf.keras.callbacks.ModelCheckpoint(filepath=checkpoint_path,\n",
        "                                                 save_weights_only=True,\n",
        "                                                 verbose=1)\n",
        "\n",
        "model.fit(train_images, train_labels, epochs=num_epochs, batch_size=batch_size, verbose=1, validation_data=(val_images, val_labels),callbacks=[cp_callback])"
      ],
      "metadata": {
        "colab": {
          "base_uri": "https://localhost:8080/"
        },
        "id": "2SPiezUM499U",
        "outputId": "c38f04d7-147c-4717-e6d4-4ef47c3ab121"
      },
      "execution_count": null,
      "outputs": [
        {
          "output_type": "stream",
          "name": "stdout",
          "text": [
            "Epoch 1/10\n",
            "268/268 [==============================] - ETA: 0s - loss: 0.0136 - accuracy: 0.9972\n",
            "Epoch 1: saving model to /content/drive/MyDrive/training_2/cp.ckpt\n",
            "268/268 [==============================] - 159s 595ms/step - loss: 0.0136 - accuracy: 0.9972 - val_loss: 0.0218 - val_accuracy: 0.9957\n",
            "Epoch 2/10\n",
            "268/268 [==============================] - ETA: 0s - loss: 0.0178 - accuracy: 0.9939\n",
            "Epoch 2: saving model to /content/drive/MyDrive/training_2/cp.ckpt\n",
            "268/268 [==============================] - 159s 594ms/step - loss: 0.0178 - accuracy: 0.9939 - val_loss: 0.0130 - val_accuracy: 0.9978\n",
            "Epoch 3/10\n",
            "268/268 [==============================] - ETA: 0s - loss: 0.0106 - accuracy: 0.9977\n",
            "Epoch 3: saving model to /content/drive/MyDrive/training_2/cp.ckpt\n",
            "268/268 [==============================] - 158s 589ms/step - loss: 0.0106 - accuracy: 0.9977 - val_loss: 0.0148 - val_accuracy: 0.9978\n",
            "Epoch 4/10\n",
            "268/268 [==============================] - ETA: 0s - loss: 0.0175 - accuracy: 0.9944\n",
            "Epoch 4: saving model to /content/drive/MyDrive/training_2/cp.ckpt\n",
            "268/268 [==============================] - 157s 587ms/step - loss: 0.0175 - accuracy: 0.9944 - val_loss: 0.0121 - val_accuracy: 0.9957\n",
            "Epoch 5/10\n",
            "268/268 [==============================] - ETA: 0s - loss: 0.0106 - accuracy: 0.9972\n",
            "Epoch 5: saving model to /content/drive/MyDrive/training_2/cp.ckpt\n",
            "268/268 [==============================] - 158s 591ms/step - loss: 0.0106 - accuracy: 0.9972 - val_loss: 0.0162 - val_accuracy: 0.9935\n",
            "Epoch 6/10\n",
            "268/268 [==============================] - ETA: 0s - loss: 0.0089 - accuracy: 0.9981\n",
            "Epoch 6: saving model to /content/drive/MyDrive/training_2/cp.ckpt\n",
            "268/268 [==============================] - 159s 592ms/step - loss: 0.0089 - accuracy: 0.9981 - val_loss: 0.0183 - val_accuracy: 0.9978\n",
            "Epoch 7/10\n",
            "268/268 [==============================] - ETA: 0s - loss: 0.0176 - accuracy: 0.9944\n",
            "Epoch 7: saving model to /content/drive/MyDrive/training_2/cp.ckpt\n",
            "268/268 [==============================] - 161s 602ms/step - loss: 0.0176 - accuracy: 0.9944 - val_loss: 0.0130 - val_accuracy: 0.9957\n",
            "Epoch 8/10\n",
            "268/268 [==============================] - ETA: 0s - loss: 0.0105 - accuracy: 0.9972\n",
            "Epoch 8: saving model to /content/drive/MyDrive/training_2/cp.ckpt\n",
            "268/268 [==============================] - 158s 589ms/step - loss: 0.0105 - accuracy: 0.9972 - val_loss: 0.0081 - val_accuracy: 0.9978\n",
            "Epoch 9/10\n",
            "268/268 [==============================] - ETA: 0s - loss: 0.0091 - accuracy: 0.9972\n",
            "Epoch 9: saving model to /content/drive/MyDrive/training_2/cp.ckpt\n",
            "268/268 [==============================] - 159s 591ms/step - loss: 0.0091 - accuracy: 0.9972 - val_loss: 0.0065 - val_accuracy: 0.9957\n",
            "Epoch 10/10\n",
            "268/268 [==============================] - ETA: 0s - loss: 0.0057 - accuracy: 0.9995\n",
            "Epoch 10: saving model to /content/drive/MyDrive/training_2/cp.ckpt\n",
            "268/268 [==============================] - 160s 597ms/step - loss: 0.0057 - accuracy: 0.9995 - val_loss: 0.0065 - val_accuracy: 0.9978\n"
          ]
        },
        {
          "output_type": "execute_result",
          "data": {
            "text/plain": [
              "<keras.src.callbacks.History at 0x78be816c4250>"
            ]
          },
          "metadata": {},
          "execution_count": 15
        }
      ]
    },
    {
      "cell_type": "code",
      "source": [
        "# Loads the weights\n",
        "checkpoint_path = \"/content/drive/MyDrive/training_2/cp.ckpt\"\n",
        "model.load_weights(checkpoint_path)"
      ],
      "metadata": {
        "colab": {
          "base_uri": "https://localhost:8080/"
        },
        "id": "e_kxXFI7RPvP",
        "outputId": "f7f34a73-7af7-428e-fd4f-e5b2c6f64f62"
      },
      "execution_count": null,
      "outputs": [
        {
          "output_type": "execute_result",
          "data": {
            "text/plain": [
              "<tensorflow.python.checkpoint.checkpoint.CheckpointLoadStatus at 0x7ff3b8114f70>"
            ]
          },
          "metadata": {},
          "execution_count": 11
        }
      ]
    },
    {
      "cell_type": "code",
      "source": [
        "\n",
        "# Evaluate your model on the test set (test_images, test_labels)\n",
        "# Assuming you have predicted labels for the test data\n",
        "test_predicted_labels = model.predict(test_images)\n",
        "test_predicted_labels = np.argmax(test_predicted_labels, axis=1)\n",
        "\n",
        "# Calculate metrics\n",
        "# Calculate metrics with zero_division parameter set to 'warn'\n",
        "accuracy = accuracy_score(test_labels, test_predicted_labels)\n",
        "precision = precision_score(test_labels, test_predicted_labels, average='weighted', zero_division=0)\n",
        "recall = recall_score(test_labels, test_predicted_labels, average='weighted', zero_division=0)\n",
        "f1 = f1_score(test_labels, test_predicted_labels, average='weighted', zero_division=0)\n",
        "\n",
        "# Print or store the test set metrics\n",
        "print(f'Test Evaluation: ')\n",
        "# Print or store other test metrics if needed\n",
        "\n",
        "# Print or store the metrics for the single training-validation split\n",
        "print(f'Accuracy: {accuracy}')\n",
        "print(f'Precision: {precision}')\n",
        "print(f'Recall: {recall}')\n",
        "print(f'F1-score: {f1}')\n",
        "# Print or store other metrics if needed"
      ],
      "metadata": {
        "id": "NyZkYcU_YN0Y",
        "colab": {
          "base_uri": "https://localhost:8080/"
        },
        "outputId": "2b0dbf09-f08a-4fe8-ba72-79fdbfa84560"
      },
      "execution_count": null,
      "outputs": [
        {
          "output_type": "stream",
          "name": "stdout",
          "text": [
            "15/15 [==============================] - 9s 591ms/step\n",
            "Test Evaluation: \n",
            "Accuracy: 0.9978213507625272\n",
            "Precision: 0.9978343965663444\n",
            "Recall: 0.9978213507625272\n",
            "F1-score: 0.9978227599142632\n"
          ]
        }
      ]
    },
    {
      "cell_type": "code",
      "execution_count": null,
      "metadata": {
        "id": "8JNmPV6xsbm2",
        "colab": {
          "base_uri": "https://localhost:8080/"
        },
        "outputId": "f058d5b1-0e9f-475d-a832-f92ffbd93cc0"
      },
      "outputs": [
        {
          "output_type": "stream",
          "name": "stdout",
          "text": [
            "For Data set Class 0: 1104 images\n",
            "For Data set Class 1: 1956 images\n",
            "For Train set Class 0: 779 images\n",
            "For Train set Class 1: 1362 images\n",
            "For Test set Class 0: 166 images\n",
            "For Test set Class 1: 293 images\n",
            "For Validation set Class 0: 159 images\n",
            "For Validation set Class 1: 301 images\n"
          ]
        }
      ],
      "source": [
        "class_counts = {}\n",
        "# Loop through each unique class and count the occurrences\n",
        "for class_label in unique_classes:\n",
        "    class_count = np.sum(labels == class_label)\n",
        "    class_counts[class_label] = class_count\n",
        "\n",
        "# Print the count of images in each class\n",
        "for class_label, count in class_counts.items():\n",
        "    print(f\"For Data set Class {class_label}: {count} images\")\n",
        "class_counts = {}\n",
        "# Loop through each unique class and count the occurrences\n",
        "for class_label in unique_classes:\n",
        "    class_count = np.sum(train_labels == class_label)\n",
        "    class_counts[class_label] = class_count\n",
        "\n",
        "# Print the count of images in each class\n",
        "for class_label, count in class_counts.items():\n",
        "    print(f\"For Train set Class {class_label}: {count} images\")\n",
        "class_counts = {}\n",
        "# Loop through each unique class and count the occurrences\n",
        "for class_label in unique_classes:\n",
        "    class_count = np.sum(test_labels == class_label)\n",
        "    class_counts[class_label] = class_count\n",
        "\n",
        "# Print the count of images in each class\n",
        "for class_label, count in class_counts.items():\n",
        "    print(f\"For Test set Class {class_label}: {count} images\")\n",
        "class_counts = {}\n",
        "# Loop through each unique class and count the occurrences\n",
        "for class_label in unique_classes:\n",
        "    class_count = np.sum(val_labels == class_label)\n",
        "    class_counts[class_label] = class_count\n",
        "\n",
        "# Print the count of images in each class\n",
        "for class_label, count in class_counts.items():\n",
        "    print(f\"For Validation set Class {class_label}: {count} images\")"
      ]
    },
    {
      "cell_type": "code",
      "execution_count": null,
      "metadata": {
        "id": "opnNoe0usfDk",
        "colab": {
          "base_uri": "https://localhost:8080/",
          "height": 994
        },
        "outputId": "01539014-a46f-49b7-bd15-977d0a725f8d"
      },
      "outputs": [
        {
          "output_type": "execute_result",
          "data": {
            "image/png": "[encoded data removed]",
            "text/plain": [
              "<IPython.core.display.Image object>"
            ]
          },
          "metadata": {},
          "execution_count": 18
        },
        {
          "output_type": "display_data",
          "data": {
            "text/plain": [
              "<Figure size 1000x600 with 0 Axes>"
            ]
          },
          "metadata": {}
        }
      ],
      "source": [
        "# Plot the model architecture\n",
        "plt.figure(figsize=(10, 6))\n",
        "from tensorflow.keras.utils import plot_model\n",
        "plot_model(model, to_file='cnn_model.png', show_shapes=True)"
      ]
    },
    {
      "cell_type": "code",
      "execution_count": null,
      "metadata": {
        "id": "fRsNOwAZJmEJ",
        "colab": {
          "base_uri": "https://localhost:8080/"
        },
        "outputId": "06da807a-0c1e-4dee-acb8-74c31bf8116b"
      },
      "outputs": [
        {
          "output_type": "stream",
          "name": "stdout",
          "text": [
            "15/15 [==============================] - 7s 479ms/step\n",
            "Accuracy: 0.9978213507625272\n",
            "Precision: 0.9978343965663444\n",
            "Recall: 0.9978213507625272\n",
            "F1 Score: 0.9978227599142632\n",
            "Classification Report:\n",
            "               precision    recall  f1-score   support\n",
            "\n",
            "           0       0.99      1.00      1.00       166\n",
            "           1       1.00      1.00      1.00       293\n",
            "\n",
            "    accuracy                           1.00       459\n",
            "   macro avg       1.00      1.00      1.00       459\n",
            "weighted avg       1.00      1.00      1.00       459\n",
            "\n"
          ]
        }
      ],
      "source": [
        "from sklearn.metrics import accuracy_score, precision_score, recall_score, f1_score, classification_report, confusion_matrix\n",
        "\n",
        "# Assuming you have predicted labels for the test data\n",
        "test_predicted_labels = model.predict(test_images)\n",
        "test_predicted_labels = np.argmax(test_predicted_labels, axis=1)\n",
        "\n",
        "# Calculate metrics\n",
        "accuracy = accuracy_score(test_labels, test_predicted_labels)\n",
        "precision = precision_score(test_labels, test_predicted_labels, average='weighted')\n",
        "recall = recall_score(test_labels, test_predicted_labels, average='weighted')\n",
        "f1 = f1_score(test_labels, test_predicted_labels, average='weighted')\n",
        "\n",
        "# Print the metrics\n",
        "print(\"Accuracy:\", accuracy)\n",
        "print(\"Precision:\", precision)\n",
        "print(\"Recall:\", recall)\n",
        "print(\"F1 Score:\", f1)\n",
        "\n",
        "# Classification report\n",
        "print(\"Classification Report:\\n\", classification_report(test_labels, test_predicted_labels))\n",
        "\n",
        "# Confusion matrix\n",
        "cm = confusion_matrix(test_labels, test_predicted_labels)\n",
        "#print(\"Confusion Matrix:\\n\", cm)"
      ]
    },
    {
      "cell_type": "code",
      "execution_count": null,
      "metadata": {
        "id": "Z70WB9rN84TI",
        "colab": {
          "base_uri": "https://localhost:8080/",
          "height": 718
        },
        "outputId": "36f9ead0-0499-49e1-f915-cfa710f956f0"
      },
      "outputs": [
        {
          "output_type": "display_data",
          "data": {
            "text/plain": [
              "<Figure size 1000x800 with 2 Axes>"
            ],
            "image/png": "[encoded data removed]"
          },
          "metadata": {}
        }
      ],
      "source": [
        "# Plot confusion matrix\n",
        "class_names = ['Unaccepted', 'Good Flow']\n",
        "plt.figure(figsize=(10, 8))\n",
        "sns.heatmap(cm, annot=True, fmt=\"d\", cmap=\"Blues\", xticklabels=class_names, yticklabels=class_names)\n",
        "plt.xlabel(\"Predicted Labels\")\n",
        "plt.ylabel(\"True Labels\")\n",
        "plt.title(\"Confusion Matrix\")\n",
        "plt.show()"
      ]
    },
    {
      "cell_type": "code",
      "execution_count": null,
      "metadata": {
        "id": "kui2s6kLsiRQ"
      },
      "outputs": [],
      "source": []
    }
  ],
  "metadata": {
    "colab": {
      "provenance": [],
      "include_colab_link": true
    },
    "kernelspec": {
      "display_name": "Python 3 (ipykernel)",
      "language": "python",
      "name": "python3"
    },
    "language_info": {
      "codemirror_mode": {
        "name": "ipython",
        "version": 3
      },
      "file_extension": ".py",
      "mimetype": "text/x-python",
      "name": "python",
      "nbconvert_exporter": "python",
      "pygments_lexer": "ipython3",
      "version": "3.10.9"
    }
  },
  "nbformat": 4,
  "nbformat_minor": 0
}